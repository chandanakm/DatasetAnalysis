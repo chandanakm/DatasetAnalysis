{
  "nbformat": 4,
  "nbformat_minor": 0,
  "metadata": {
    "colab": {
      "name": "Untitled5.ipynb",
      "provenance": [],
      "include_colab_link": true
    },
    "kernelspec": {
      "name": "python3",
      "display_name": "Python 3"
    }
  },
  "cells": [
    {
      "cell_type": "markdown",
      "metadata": {
        "id": "view-in-github",
        "colab_type": "text"
      },
      "source": [
        "<a href=\"https://colab.research.google.com/github/chandanakm/DatasetAnalysis/blob/master/algorithmcomparison.ipynb\" target=\"_parent\"><img src=\"https://colab.research.google.com/assets/colab-badge.svg\" alt=\"Open In Colab\"/></a>"
      ]
    },
    {
      "cell_type": "markdown",
      "metadata": {
        "id": "uEdBEc0wnP18",
        "colab_type": "text"
      },
      "source": [
        "# **Comparing performance of algorithms**"
      ]
    },
    {
      "cell_type": "markdown",
      "metadata": {
        "id": "2hhdKm5x2L3g",
        "colab_type": "text"
      },
      "source": [
        "## 1. KNN algorithm "
      ]
    },
    {
      "cell_type": "code",
      "metadata": {
        "id": "J3_hFOy2nfjb",
        "colab_type": "code",
        "colab": {}
      },
      "source": [
        "import numpy as np\n",
        "import matplotlib.pyplot as plt\n",
        "import pandas as pd\n",
        "from sklearn.model_selection import train_test_split\n",
        "from sklearn.preprocessing import StandardScaler\n",
        "from sklearn.neighbors import KNeighborsClassifier\n",
        "from sklearn.metrics import confusion_matrix\n",
        "dataset = pd.read_csv('https://raw.githubusercontent.com/dipbanik/MyTectraJuly/master/Classification/Social_Network_Ads.csv')\n",
        "X = dataset.iloc[:,[2,3]].values\n",
        "y = dataset.iloc[:, 4].values\n",
        "X_train, X_test, y_train, y_test = train_test_split(X, y, test_size = 0.25, random_state = 0)\n",
        "sc = StandardScaler()\n",
        "X_train = sc.fit_transform(X_train)\n",
        "X_test = sc.transform(X_test)\n"
      ],
      "execution_count": 0,
      "outputs": []
    },
    {
      "cell_type": "code",
      "metadata": {
        "id": "FBPYxFvFcdPl",
        "colab_type": "code",
        "colab": {}
      },
      "source": [
        "from sklearn.neighbors import KNeighborsClassifier\n",
        "from sklearn.metrics import confusion_matrix\n",
        "from sklearn.metrics import classification_report\n",
        "classifier = KNeighborsClassifier()\n",
        "classifier.fit(X_train, y_train)\n",
        "classifier = KNeighborsClassifier(n_neighbors = 5, metric = 'minkowski', p = 2)\n",
        "classifier.fit(X_train, y_train)\n",
        "y_train_pred = classifier.predict(X_train)\n",
        "y_test_pred = classifier.predict(X_test)\n"
      ],
      "execution_count": 0,
      "outputs": []
    },
    {
      "cell_type": "code",
      "metadata": {
        "id": "YGTbJfGbmkWn",
        "colab_type": "code",
        "outputId": "87d1a4cd-2802-4658-e338-10a40c825032",
        "colab": {
          "base_uri": "https://localhost:8080/",
          "height": 54
        }
      },
      "source": [
        "cm_train = confusion_matrix(y_train, y_train_pred)\n",
        "cm_train"
      ],
      "execution_count": 0,
      "outputs": [
        {
          "output_type": "execute_result",
          "data": {
            "text/plain": [
              "array([[172,  17],\n",
              "       [ 10, 101]])"
            ]
          },
          "metadata": {
            "tags": []
          },
          "execution_count": 12
        }
      ]
    },
    {
      "cell_type": "code",
      "metadata": {
        "id": "hoGpJ9W4mnEf",
        "colab_type": "code",
        "outputId": "e4c43ba1-fbd7-4d28-ccf3-3aba6105ac2d",
        "colab": {
          "base_uri": "https://localhost:8080/",
          "height": 181
        }
      },
      "source": [
        "print(classification_report(y_train, y_train_pred, target_names=['positive class','negative class']))"
      ],
      "execution_count": 0,
      "outputs": [
        {
          "output_type": "stream",
          "text": [
            "                precision    recall  f1-score   support\n",
            "\n",
            "positive class       0.95      0.91      0.93       189\n",
            "negative class       0.86      0.91      0.88       111\n",
            "\n",
            "      accuracy                           0.91       300\n",
            "     macro avg       0.90      0.91      0.90       300\n",
            "  weighted avg       0.91      0.91      0.91       300\n",
            "\n"
          ],
          "name": "stdout"
        }
      ]
    },
    {
      "cell_type": "code",
      "metadata": {
        "id": "XtwS_eeDnkmh",
        "colab_type": "code",
        "outputId": "ff3e88bf-9ac0-47a9-b09e-c6a8ee2fa332",
        "colab": {
          "base_uri": "https://localhost:8080/",
          "height": 54
        }
      },
      "source": [
        "cm_test = confusion_matrix(y_test, y_test_pred)\n",
        "cm_test\n"
      ],
      "execution_count": 0,
      "outputs": [
        {
          "output_type": "execute_result",
          "data": {
            "text/plain": [
              "array([[64,  4],\n",
              "       [ 3, 29]])"
            ]
          },
          "metadata": {
            "tags": []
          },
          "execution_count": 24
        }
      ]
    },
    {
      "cell_type": "code",
      "metadata": {
        "id": "9iva3EStnzKH",
        "colab_type": "code",
        "outputId": "59c1656e-3cb7-4ea1-f372-ae2a2543b1c2",
        "colab": {
          "base_uri": "https://localhost:8080/",
          "height": 175
        }
      },
      "source": [
        "print(classification_report(y_test, y_test_pred, target_names=['positive class','negative class']))"
      ],
      "execution_count": 0,
      "outputs": [
        {
          "output_type": "stream",
          "text": [
            "                precision    recall  f1-score   support\n",
            "\n",
            "positive class       0.96      0.94      0.95        68\n",
            "negative class       0.88      0.91      0.89        32\n",
            "\n",
            "      accuracy                           0.93       100\n",
            "     macro avg       0.92      0.92      0.92       100\n",
            "  weighted avg       0.93      0.93      0.93       100\n",
            "\n"
          ],
          "name": "stdout"
        }
      ]
    },
    {
      "cell_type": "markdown",
      "metadata": {
        "id": "NGhGBd6f6DTm",
        "colab_type": "text"
      },
      "source": [
        "## **KNN Algorithm Test dataset ACCURACY:  0.93**"
      ]
    },
    {
      "cell_type": "markdown",
      "metadata": {
        "id": "UxIje-P_rLYW",
        "colab_type": "text"
      },
      "source": [
        "# Decision tree algorithm"
      ]
    },
    {
      "cell_type": "code",
      "metadata": {
        "id": "IJK12IixrP0b",
        "colab_type": "code",
        "outputId": "dff1a1db-9178-4411-c856-a326272cc59e",
        "colab": {
          "base_uri": "https://localhost:8080/",
          "height": 52
        }
      },
      "source": [
        "from sklearn.tree import DecisionTreeClassifier\n",
        "from sklearn.metrics import confusion_matrix\n",
        "classifier = DecisionTreeClassifier(criterion = 'entropy', random_state = 0)\n",
        "classifier.fit(X_train, y_train)\n",
        "y_train_pred=classifier.predict(X_train)\n",
        "y_test_pred = classifier.predict(X_test)\n",
        "cm_train = confusion_matrix(y_train, y_train_pred)\n",
        "cm_train"
      ],
      "execution_count": 0,
      "outputs": [
        {
          "output_type": "execute_result",
          "data": {
            "text/plain": [
              "array([[189,   0],\n",
              "       [  0, 111]])"
            ]
          },
          "metadata": {
            "tags": []
          },
          "execution_count": 37
        }
      ]
    },
    {
      "cell_type": "code",
      "metadata": {
        "id": "sMz0vqf3r-r3",
        "colab_type": "code",
        "outputId": "aa5ce761-26cc-4b9e-a5cb-a9977b4f34f8",
        "colab": {
          "base_uri": "https://localhost:8080/",
          "height": 52
        }
      },
      "source": [
        "cm_test = confusion_matrix(y_test, y_test_pred)\n",
        "cm_test"
      ],
      "execution_count": 0,
      "outputs": [
        {
          "output_type": "execute_result",
          "data": {
            "text/plain": [
              "array([[62,  6],\n",
              "       [ 3, 29]])"
            ]
          },
          "metadata": {
            "tags": []
          },
          "execution_count": 36
        }
      ]
    },
    {
      "cell_type": "code",
      "metadata": {
        "id": "MouDaXQRsvGe",
        "colab_type": "code",
        "outputId": "d51d4ddb-4573-4867-e27c-2690c811bbbf",
        "colab": {
          "base_uri": "https://localhost:8080/",
          "height": 175
        }
      },
      "source": [
        "print(classification_report(y_train, y_train_pred, target_names=['positive class','negative class']))"
      ],
      "execution_count": 0,
      "outputs": [
        {
          "output_type": "stream",
          "text": [
            "                precision    recall  f1-score   support\n",
            "\n",
            "positive class       1.00      1.00      1.00       189\n",
            "negative class       1.00      1.00      1.00       111\n",
            "\n",
            "      accuracy                           1.00       300\n",
            "     macro avg       1.00      1.00      1.00       300\n",
            "  weighted avg       1.00      1.00      1.00       300\n",
            "\n"
          ],
          "name": "stdout"
        }
      ]
    },
    {
      "cell_type": "code",
      "metadata": {
        "id": "UPoLyp0Csx23",
        "colab_type": "code",
        "outputId": "0886a597-1077-4d67-dbe6-f22e54bba0e2",
        "colab": {
          "base_uri": "https://localhost:8080/",
          "height": 175
        }
      },
      "source": [
        "print(classification_report(y_test, y_test_pred, target_names=['positive class','negative class']))"
      ],
      "execution_count": 0,
      "outputs": [
        {
          "output_type": "stream",
          "text": [
            "                precision    recall  f1-score   support\n",
            "\n",
            "positive class       0.95      0.91      0.93        68\n",
            "negative class       0.83      0.91      0.87        32\n",
            "\n",
            "      accuracy                           0.91       100\n",
            "     macro avg       0.89      0.91      0.90       100\n",
            "  weighted avg       0.91      0.91      0.91       100\n",
            "\n"
          ],
          "name": "stdout"
        }
      ]
    },
    {
      "cell_type": "markdown",
      "metadata": {
        "id": "9SBrNN0F6ebR",
        "colab_type": "text"
      },
      "source": [
        "## Decision tree algorithm test dataset ACCURACY: 0.91"
      ]
    },
    {
      "cell_type": "markdown",
      "metadata": {
        "id": "8qaJL2tk79pQ",
        "colab_type": "text"
      },
      "source": [
        "# Naive-Bayes **Classifier**"
      ]
    },
    {
      "cell_type": "code",
      "metadata": {
        "id": "xNvZH89P6kF7",
        "colab_type": "code",
        "colab": {}
      },
      "source": [
        "from sklearn.naive_bayes import GaussianNB\n",
        "from sklearn.metrics import confusion_matrix\n",
        "classifier = GaussianNB()\n",
        "classifier.fit(X_train, y_train)\n",
        "y_train_pred = classifier.predict(X_train)\n",
        "y_test_pred=classifier.predict(X_test)\n",
        "cm_train = confusion_matrix(y_train, y_train_pred)\n",
        "cm_test = confusion_matrix(y_test, y_test_pred)"
      ],
      "execution_count": 0,
      "outputs": []
    },
    {
      "cell_type": "code",
      "metadata": {
        "id": "mk0qku9-7ife",
        "colab_type": "code",
        "outputId": "f0e0850c-bf37-4af0-946b-1d2b303458ea",
        "colab": {
          "base_uri": "https://localhost:8080/",
          "height": 52
        }
      },
      "source": [
        "cm_train"
      ],
      "execution_count": 0,
      "outputs": [
        {
          "output_type": "execute_result",
          "data": {
            "text/plain": [
              "array([[174,  15],\n",
              "       [ 20,  91]])"
            ]
          },
          "metadata": {
            "tags": []
          },
          "execution_count": 47
        }
      ]
    },
    {
      "cell_type": "code",
      "metadata": {
        "id": "edg56U9g7kh-",
        "colab_type": "code",
        "outputId": "565347cd-f019-47b1-c962-096b570bdf95",
        "colab": {
          "base_uri": "https://localhost:8080/",
          "height": 52
        }
      },
      "source": [
        "cm_test"
      ],
      "execution_count": 0,
      "outputs": [
        {
          "output_type": "execute_result",
          "data": {
            "text/plain": [
              "array([[65,  3],\n",
              "       [ 7, 25]])"
            ]
          },
          "metadata": {
            "tags": []
          },
          "execution_count": 48
        }
      ]
    },
    {
      "cell_type": "code",
      "metadata": {
        "id": "9m4ZASvg7mNm",
        "colab_type": "code",
        "outputId": "df0b194d-5ee6-48df-9744-9be3e9266229",
        "colab": {
          "base_uri": "https://localhost:8080/",
          "height": 175
        }
      },
      "source": [
        "print(classification_report(y_train, y_train_pred, target_names=['positive class','negative class']))"
      ],
      "execution_count": 0,
      "outputs": [
        {
          "output_type": "stream",
          "text": [
            "                precision    recall  f1-score   support\n",
            "\n",
            "positive class       0.90      0.92      0.91       189\n",
            "negative class       0.86      0.82      0.84       111\n",
            "\n",
            "      accuracy                           0.88       300\n",
            "     macro avg       0.88      0.87      0.87       300\n",
            "  weighted avg       0.88      0.88      0.88       300\n",
            "\n"
          ],
          "name": "stdout"
        }
      ]
    },
    {
      "cell_type": "code",
      "metadata": {
        "id": "VBj-rbpX7x7u",
        "colab_type": "code",
        "outputId": "43ca6463-6f91-4d54-ded0-7801a2932422",
        "colab": {
          "base_uri": "https://localhost:8080/",
          "height": 175
        }
      },
      "source": [
        "print(classification_report(y_test, y_test_pred, target_names=['positive class','negative class']))"
      ],
      "execution_count": 0,
      "outputs": [
        {
          "output_type": "stream",
          "text": [
            "                precision    recall  f1-score   support\n",
            "\n",
            "positive class       0.90      0.96      0.93        68\n",
            "negative class       0.89      0.78      0.83        32\n",
            "\n",
            "      accuracy                           0.90       100\n",
            "     macro avg       0.90      0.87      0.88       100\n",
            "  weighted avg       0.90      0.90      0.90       100\n",
            "\n"
          ],
          "name": "stdout"
        }
      ]
    },
    {
      "cell_type": "markdown",
      "metadata": {
        "id": "TJHJMM658KXm",
        "colab_type": "text"
      },
      "source": [
        "### Naive-Bayes Algortihm test dataset ACCURACY: 0.**90**"
      ]
    },
    {
      "cell_type": "markdown",
      "metadata": {
        "id": "taq_BbHoA7et",
        "colab_type": "text"
      },
      "source": [
        "# **SVM Algorithm**"
      ]
    },
    {
      "cell_type": "code",
      "metadata": {
        "id": "fda9HBThBEBp",
        "colab_type": "code",
        "colab": {}
      },
      "source": [
        "from sklearn.svm import SVC\n",
        "from sklearn.metrics import confusion_matrix\n",
        "\n",
        "classifier = SVC(kernel = 'linear', random_state = 0)\n",
        "classifier.fit(X_train, y_train)\n",
        "y_train_pred = classifier.predict(X_train)\n",
        "y_test_pred = classifier.predict(X_test)\n",
        "cm_train = confusion_matrix(y_train, y_train_pred)\n",
        "cm_test = confusion_matrix(y_test, y_test_pred)\n"
      ],
      "execution_count": 0,
      "outputs": []
    },
    {
      "cell_type": "code",
      "metadata": {
        "id": "Tb-8V5QyDFjm",
        "colab_type": "code",
        "outputId": "e4f0292e-be26-4a57-b7c3-ee539ff0a8f5",
        "colab": {
          "base_uri": "https://localhost:8080/",
          "height": 52
        }
      },
      "source": [
        "cm_train"
      ],
      "execution_count": 0,
      "outputs": [
        {
          "output_type": "execute_result",
          "data": {
            "text/plain": [
              "array([[173,  16],\n",
              "       [ 37,  74]])"
            ]
          },
          "metadata": {
            "tags": []
          },
          "execution_count": 55
        }
      ]
    },
    {
      "cell_type": "code",
      "metadata": {
        "id": "IgvYjdX5DHcK",
        "colab_type": "code",
        "outputId": "0e86e49e-f42c-4d07-a013-86a8448592a9",
        "colab": {
          "base_uri": "https://localhost:8080/",
          "height": 52
        }
      },
      "source": [
        "cm_test"
      ],
      "execution_count": 0,
      "outputs": [
        {
          "output_type": "execute_result",
          "data": {
            "text/plain": [
              "array([[66,  2],\n",
              "       [ 8, 24]])"
            ]
          },
          "metadata": {
            "tags": []
          },
          "execution_count": 56
        }
      ]
    },
    {
      "cell_type": "code",
      "metadata": {
        "id": "qkkMAg54DSLW",
        "colab_type": "code",
        "outputId": "f995065b-b567-4c95-9c60-8f717abd5270",
        "colab": {
          "base_uri": "https://localhost:8080/",
          "height": 175
        }
      },
      "source": [
        "print(classification_report(y_train, y_train_pred, target_names=['positive class','negative class']))"
      ],
      "execution_count": 0,
      "outputs": [
        {
          "output_type": "stream",
          "text": [
            "                precision    recall  f1-score   support\n",
            "\n",
            "positive class       0.82      0.92      0.87       189\n",
            "negative class       0.82      0.67      0.74       111\n",
            "\n",
            "      accuracy                           0.82       300\n",
            "     macro avg       0.82      0.79      0.80       300\n",
            "  weighted avg       0.82      0.82      0.82       300\n",
            "\n"
          ],
          "name": "stdout"
        }
      ]
    },
    {
      "cell_type": "code",
      "metadata": {
        "id": "oM-IROT8DUs0",
        "colab_type": "code",
        "outputId": "65406614-17b1-4223-852d-1bfc3bb3ceaf",
        "colab": {
          "base_uri": "https://localhost:8080/",
          "height": 175
        }
      },
      "source": [
        "print(classification_report(y_test, y_test_pred, target_names=['positive class','negative class']))"
      ],
      "execution_count": 0,
      "outputs": [
        {
          "output_type": "stream",
          "text": [
            "                precision    recall  f1-score   support\n",
            "\n",
            "positive class       0.89      0.97      0.93        68\n",
            "negative class       0.92      0.75      0.83        32\n",
            "\n",
            "      accuracy                           0.90       100\n",
            "     macro avg       0.91      0.86      0.88       100\n",
            "  weighted avg       0.90      0.90      0.90       100\n",
            "\n"
          ],
          "name": "stdout"
        }
      ]
    },
    {
      "cell_type": "markdown",
      "metadata": {
        "id": "DW-ovTNUDZie",
        "colab_type": "text"
      },
      "source": [
        "## SVM test dataset ACCURACY : 0.**90**"
      ]
    },
    {
      "cell_type": "markdown",
      "metadata": {
        "id": "3YB64f83EPRq",
        "colab_type": "text"
      },
      "source": [
        "# Random forest Algorithm "
      ]
    },
    {
      "cell_type": "code",
      "metadata": {
        "id": "zoFC5abKDqXj",
        "colab_type": "code",
        "colab": {}
      },
      "source": [
        "from sklearn.ensemble import RandomForestClassifier\n",
        "classifier = RandomForestClassifier(n_estimators = 10, criterion = 'entropy', random_state = 0)\n",
        "classifier.fit(X_train, y_train)\n",
        "y_train_pred = classifier.predict(X_train)\n",
        "y_test_pred = classifier.predict(X_test)\n",
        "cm_train = confusion_matrix(y_train, y_train_pred)\n",
        "cm_test = confusion_matrix(y_test, y_test_pred)\n"
      ],
      "execution_count": 0,
      "outputs": []
    },
    {
      "cell_type": "code",
      "metadata": {
        "id": "hVGCTR3cDwee",
        "colab_type": "code",
        "outputId": "61daa2b6-4c94-4f5f-a189-71d0946faf53",
        "colab": {
          "base_uri": "https://localhost:8080/",
          "height": 52
        }
      },
      "source": [
        "cm_train\n"
      ],
      "execution_count": 0,
      "outputs": [
        {
          "output_type": "execute_result",
          "data": {
            "text/plain": [
              "array([[187,   2],\n",
              "       [  4, 107]])"
            ]
          },
          "metadata": {
            "tags": []
          },
          "execution_count": 60
        }
      ]
    },
    {
      "cell_type": "code",
      "metadata": {
        "id": "2T4dEIdiDyyB",
        "colab_type": "code",
        "outputId": "86d65546-efb4-4de4-a1a3-2637e7ac57a8",
        "colab": {
          "base_uri": "https://localhost:8080/",
          "height": 52
        }
      },
      "source": [
        "cm_test"
      ],
      "execution_count": 0,
      "outputs": [
        {
          "output_type": "execute_result",
          "data": {
            "text/plain": [
              "array([[63,  5],\n",
              "       [ 4, 28]])"
            ]
          },
          "metadata": {
            "tags": []
          },
          "execution_count": 61
        }
      ]
    },
    {
      "cell_type": "code",
      "metadata": {
        "id": "Tt4pRS0UD2dN",
        "colab_type": "code",
        "outputId": "03497672-6f7c-46a9-86bb-2713f08ddeb7",
        "colab": {
          "base_uri": "https://localhost:8080/",
          "height": 175
        }
      },
      "source": [
        "print(classification_report(y_train, y_train_pred, target_names=['positive class','negative class']))"
      ],
      "execution_count": 0,
      "outputs": [
        {
          "output_type": "stream",
          "text": [
            "                precision    recall  f1-score   support\n",
            "\n",
            "positive class       0.98      0.99      0.98       189\n",
            "negative class       0.98      0.96      0.97       111\n",
            "\n",
            "      accuracy                           0.98       300\n",
            "     macro avg       0.98      0.98      0.98       300\n",
            "  weighted avg       0.98      0.98      0.98       300\n",
            "\n"
          ],
          "name": "stdout"
        }
      ]
    },
    {
      "cell_type": "code",
      "metadata": {
        "id": "eRl5JEcmD8Cb",
        "colab_type": "code",
        "outputId": "43639751-b443-45af-f9c5-692e0313f83e",
        "colab": {
          "base_uri": "https://localhost:8080/",
          "height": 175
        }
      },
      "source": [
        "print(classification_report(y_test, y_test_pred, target_names=['positive class','negative class']))"
      ],
      "execution_count": 0,
      "outputs": [
        {
          "output_type": "stream",
          "text": [
            "                precision    recall  f1-score   support\n",
            "\n",
            "positive class       0.94      0.93      0.93        68\n",
            "negative class       0.85      0.88      0.86        32\n",
            "\n",
            "      accuracy                           0.91       100\n",
            "     macro avg       0.89      0.90      0.90       100\n",
            "  weighted avg       0.91      0.91      0.91       100\n",
            "\n"
          ],
          "name": "stdout"
        }
      ]
    },
    {
      "cell_type": "markdown",
      "metadata": {
        "id": "WqVUtqGHECfp",
        "colab_type": "text"
      },
      "source": [
        "## Random forest test dataset ACCURACY: 0.**91**"
      ]
    },
    {
      "cell_type": "markdown",
      "metadata": {
        "id": "EUAwdZEnHD1-",
        "colab_type": "text"
      },
      "source": [
        "1. KNN          - 0.93\n",
        "2. Decision Tree- 0.91\n",
        "3. Naive Bayes  - 0.90\n",
        "4. SVM          - 0.90\n",
        "5. Random Forest- 0.91\n",
        "\n",
        "\n",
        "Comparitively KNN has highest Accuracy for test dataset."
      ]
    }
  ]
}